{
 "cells": [
  {
   "cell_type": "code",
   "execution_count": 1,
   "metadata": {},
   "outputs": [
    {
     "name": "stdout",
     "output_type": "stream",
     "text": [
      "Estado de la solución: Optimal\n",
      "Costo total mínimo: 85833.33333333334\n",
      "Cantidad enviada del Centro 1 al Concesionario 1: 100.0\n",
      "Cantidad enviada del Centro 1 al Concesionario 2: 0.0\n",
      "Cantidad enviada del Centro 1 al Concesionario 3: 0.0\n",
      "Cantidad enviada del Centro 1 al Concesionario 4: 160.0\n",
      "Cantidad enviada del Centro 1 al Concesionario 5: 140.0\n",
      "Cantidad enviada del Centro 2 al Concesionario 1: 0.0\n",
      "Cantidad enviada del Centro 2 al Concesionario 2: 50.0\n",
      "Cantidad enviada del Centro 2 al Concesionario 3: 150.0\n",
      "Cantidad enviada del Centro 2 al Concesionario 4: 0.0\n",
      "Cantidad enviada del Centro 2 al Concesionario 5: 0.0\n",
      "Cantidad enviada del Centro 3 al Concesionario 1: 0.0\n",
      "Cantidad enviada del Centro 3 al Concesionario 2: 150.0\n",
      "Cantidad enviada del Centro 3 al Concesionario 3: 0.0\n",
      "Cantidad enviada del Centro 3 al Concesionario 4: 0.0\n",
      "Cantidad enviada del Centro 3 al Concesionario 5: 0.0\n"
     ]
    }
   ],
   "source": [
    "import pulp\n",
    "\n",
    "# Definir el problema de minimización\n",
    "problem = pulp.LpProblem(\"Minimización_Costo_Transporte\", pulp.LpMinimize)\n",
    "\n",
    "# Parámetros\n",
    "distances = [\n",
    "    [100, 150, 200, 140, 35],\n",
    "    [50, 40, 60, 65, 80],\n",
    "    [40, 90, 150, 150, 100]\n",
    "]\n",
    "\n",
    "supply = [400, 200, 150]\n",
    "demand = [100, 200, 150, 160, 140]\n",
    "cost_per_mile = 25\n",
    "cars_per_load = 18\n",
    "\n",
    "# Cálculo de costos por carga completa\n",
    "costs = [[(dist * cost_per_mile) / cars_per_load for dist in row] for row in distances]\n",
    "\n",
    "# Variables de decisión: x_ij representa la cantidad enviada desde el centro i al concesionario j\n",
    "x = [[pulp.LpVariable(f\"x_{i}_{j}\", lowBound=0, cat='Continuous') for j in range(5)] for i in range(3)]\n",
    "\n",
    "# Función objetivo: Minimizar el costo total de transporte\n",
    "problem += pulp.lpSum(costs[i][j] * x[i][j] for i in range(3) for j in range(5)), \"Costo Total de Transporte\"\n",
    "\n",
    "# Restricciones de oferta: Lo que se puede enviar desde cada centro de distribución\n",
    "for i in range(3):\n",
    "    problem += pulp.lpSum(x[i][j] for j in range(5)) <= supply[i], f\"Oferta_{i}\"\n",
    "\n",
    "# Restricciones de demanda: Lo que requiere cada concesionario\n",
    "for j in range(5):\n",
    "    problem += pulp.lpSum(x[i][j] for i in range(3)) >= demand[j], f\"Demanda_{j}\"\n",
    "\n",
    "# Resolver el problema\n",
    "problem.solve()\n",
    "\n",
    "# Mostrar resultados\n",
    "print(f\"Estado de la solución: {pulp.LpStatus[problem.status]}\")\n",
    "print(f\"Costo total mínimo: {pulp.value(problem.objective)}\")\n",
    "\n",
    "# Mostrar la cantidad enviada desde cada centro a cada concesionario\n",
    "for i in range(3):\n",
    "    for j in range(5):\n",
    "        print(f\"Cantidad enviada del Centro {i+1} al Concesionario {j+1}: {x[i][j].varValue}\")\n"
   ]
  }
 ],
 "metadata": {
  "kernelspec": {
   "display_name": "env",
   "language": "python",
   "name": "python3"
  },
  "language_info": {
   "codemirror_mode": {
    "name": "ipython",
    "version": 3
   },
   "file_extension": ".py",
   "mimetype": "text/x-python",
   "name": "python",
   "nbconvert_exporter": "python",
   "pygments_lexer": "ipython3",
   "version": "3.9.2rc1"
  }
 },
 "nbformat": 4,
 "nbformat_minor": 2
}
